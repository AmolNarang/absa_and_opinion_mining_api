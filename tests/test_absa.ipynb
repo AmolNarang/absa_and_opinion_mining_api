{
 "cells": [
  {
   "cell_type": "code",
   "execution_count": 1,
   "id": "f0de197b-04f7-4f6b-9894-f46c1a6b8466",
   "metadata": {},
   "outputs": [
    {
     "name": "stdout",
     "output_type": "stream",
     "text": [
      "__init__.py  test_absa.ipynb  trigger_test.ipynb\n"
     ]
    }
   ],
   "source": [
    "%ls"
   ]
  },
  {
   "cell_type": "code",
   "execution_count": 2,
   "id": "eb7bb9b9-c820-4e62-a961-c24020fe9f43",
   "metadata": {},
   "outputs": [],
   "source": [
    "import os\n",
    "os.chdir(\"/home/user/Projects/absa_and_opinion_mining_api\")\n"
   ]
  },
  {
   "cell_type": "code",
   "execution_count": 4,
   "id": "01729e1f-50bd-4837-a210-67d2aadb02a9",
   "metadata": {},
   "outputs": [
    {
     "data": {
      "text/plain": [
       "'/home/user/Projects/absa_and_opinion_mining_api'"
      ]
     },
     "execution_count": 4,
     "metadata": {},
     "output_type": "execute_result"
    }
   ],
   "source": [
    "os.getcwd()"
   ]
  },
  {
   "cell_type": "code",
   "execution_count": 7,
   "id": "1917d602-e598-467b-8769-8391eb471956",
   "metadata": {},
   "outputs": [],
   "source": [
    "import time\n",
    "from models.required_function import OpinionExtractor\n",
    "import warnings\n",
    "# from loco_nlp.preprocessing.language_detector import detect_lang\n",
    "# from loco_nlp.preprocessing.language_detector import pure_en_detector\n",
    "warnings.filterwarnings(\"ignore\")\n",
    "import nltk\n",
    "from nltk.tokenize import word_tokenize\n",
    "from nltk.stem import WordNetLemmatizer\n",
    "import re\n"
   ]
  },
  {
   "cell_type": "code",
   "execution_count": 9,
   "id": "550bf05e-d264-4102-9a5a-70909009f962",
   "metadata": {},
   "outputs": [],
   "source": [
    "def all_words_are_nouns_or_punc(sentence):\n",
    "    words = word_tokenize(sentence)\n",
    "    pos_tags = nltk.pos_tag(words)\n",
    "    for _, tag in pos_tags:\n",
    "        if not (tag.startswith('N') or tag in [',', '.', '?', '!', ';', ':', \"'\", '\"', '-', '(', ')', '[', ']', '{', '}', '/', '\\\\']):  # Check if the tag does not start with 'N' (noun)\n",
    "            print(sentence,\"_NOT NOUN_\",tag,_)\n",
    "            return False\n",
    "    print(sentence,\"_NOUN OR PUNC_\", tag,_)\n",
    "    return True"
   ]
  },
  {
   "cell_type": "code",
   "execution_count": 8,
   "id": "93d3b386-e428-4264-9b35-4013ddae6c38",
   "metadata": {},
   "outputs": [],
   "source": [
    "lemmatizer = WordNetLemmatizer()\n"
   ]
  },
  {
   "cell_type": "code",
   "execution_count": 6,
   "id": "2bea2240-7a22-4f6d-b317-8d385cec9c0b",
   "metadata": {},
   "outputs": [
    {
     "name": "stderr",
     "output_type": "stream",
     "text": [
      "The argument `from_transformers` is deprecated, and will be removed in optimum 2.0.  Use `export` instead\n",
      "Framework not specified. Using pt to export to ONNX.\n",
      "Using the export variant default. Available variants are:\n",
      "    - default: The default ONNX variant.\n",
      "Using framework PyTorch: 2.2.0+cu121\n",
      "Overriding 1 configuration item(s)\n",
      "\t- use_cache -> False\n",
      "Using framework PyTorch: 2.2.0+cu121\n",
      "Overriding 1 configuration item(s)\n",
      "\t- use_cache -> True\n",
      "Using framework PyTorch: 2.2.0+cu121\n",
      "Overriding 1 configuration item(s)\n",
      "\t- use_cache -> True\n",
      "In-place op on output of tensor.shape. See https://pytorch.org/docs/master/onnx.html#avoid-inplace-operations-when-using-tensor-shape-in-tracing-mode\n",
      "In-place op on output of tensor.shape. See https://pytorch.org/docs/master/onnx.html#avoid-inplace-operations-when-using-tensor-shape-in-tracing-mode\n"
     ]
    }
   ],
   "source": [
    "ABOP_extractor = OpinionExtractor()\n"
   ]
  },
  {
   "cell_type": "code",
   "execution_count": 19,
   "id": "fdfa598c-510c-4dd2-b5ac-411a5e76f820",
   "metadata": {},
   "outputs": [
    {
     "name": "stdout",
     "output_type": "stream",
     "text": [
      "sbi _NOUN OR PUNC_ NN sbi\n",
      "1.680135726928711\n"
     ]
    }
   ],
   "source": [
    "\n",
    "sentences = [\n",
    "    \"sbi\"\n",
    "]\n",
    "t1=time.time()\n",
    "filtered_sentences = [sentence for sentence in sentences if not all_words_are_nouns_or_punc(sentence)]\n",
    "t2=time.time()-t1\n",
    "for sentence in filtered_sentences:\n",
    "    print(sentence)\n",
    "print(t2*1000)"
   ]
  },
  {
   "cell_type": "code",
   "execution_count": 23,
   "id": "27f28e1c-6115-432b-a46e-b4da8b538e3c",
   "metadata": {},
   "outputs": [
    {
     "name": "stdout",
     "output_type": "stream",
     "text": [
      "CPU times: user 6 µs, sys: 2 µs, total: 8 µs\n",
      "Wall time: 13.8 µs\n",
      "yono sbi maldives _NOUN OR PUNC_ NNS maldives\n",
      "True\n",
      "1.9974708557128906\n"
     ]
    }
   ],
   "source": [
    "%time\n",
    "t1=time.time()\n",
    "print(all_words_are_nouns_or_punc(\"yono sbi maldives\"))\n",
    "t2=time.time()-t1\n",
    "print(t2*1000)"
   ]
  },
  {
   "cell_type": "code",
   "execution_count": 41,
   "id": "0854751b-0f98-4251-a89d-66eb158e723c",
   "metadata": {},
   "outputs": [],
   "source": [
    "def all_words_are_nouns_or_punc_req(sentence):\n",
    "    words = word_tokenize(sentence)\n",
    "    pos_tags = nltk.pos_tag(words)\n",
    "    print(pos_tags)\n",
    "    for _, tag in pos_tags:\n",
    "        if not (tag.startswith('N') or tag in [',', '.', '?', '!', ';', ':', \"'\", '\"', '-', '(', ')', '[', ']', '{', '}', '/', '\\\\']):  # Check if the tag does not start with 'N' (noun)\n",
    "            print(sentence,\"_NOT NOUN_\",tag,_)\n",
    "            return False\n",
    "    print(sentence,\"_NOUN OR PUNC_\", tag,_)\n",
    "    return True"
   ]
  },
  {
   "cell_type": "code",
   "execution_count": 50,
   "id": "060e45ec-beb5-45a9-b1de-94e2ace52404",
   "metadata": {},
   "outputs": [],
   "source": [
    "opinions = [\"Hi how are you bro\"]"
   ]
  },
  {
   "cell_type": "code",
   "execution_count": 51,
   "id": "05198532-d13b-4aa7-8e21-ed3345770492",
   "metadata": {},
   "outputs": [
    {
     "name": "stdout",
     "output_type": "stream",
     "text": [
      "[('Hi', 'NNP'), ('how', 'WRB'), ('are', 'VBP'), ('you', 'PRP'), ('bro', 'IN')]\n",
      "Hi how are you bro _NOT NOUN_ WRB how\n",
      "not noun ['Hi how are you bro']\n"
     ]
    }
   ],
   "source": [
    "if len(opinions)==1:\n",
    "    sent =  opinions[0]\n",
    "    if all_words_are_nouns_or_punc_req(sent):\n",
    "        print(\"noun\", [\"\"])\n",
    "    else:\n",
    "        print(\"not noun\", opinions)\n",
    "else:\n",
    "    print(\">1 opinion\",opinions)\n",
    "    \n"
   ]
  },
  {
   "cell_type": "code",
   "execution_count": 58,
   "id": "17c92951-e31e-4bb5-abc6-86e32cdbaa30",
   "metadata": {},
   "outputs": [],
   "source": [
    "# def other_opinions(opinions):\n",
    "#     if len(opinions)==1:\n",
    "#         sent =  opinions[0]\n",
    "#         if all_words_are_nouns_or_punc_req(sent):\n",
    "#             return ['']\n",
    "#         else:\n",
    "#             return opinions\n",
    "#     else:\n",
    "#         return opinions"
   ]
  },
  {
   "cell_type": "code",
   "execution_count": 120,
   "id": "3ba9b95f-f3b9-4ad7-a3b7-a682a2367090",
   "metadata": {},
   "outputs": [],
   "source": [
    "def other_opinions(opinions):\n",
    "    if len(opinions)==1:\n",
    "        if len(word_tokenize(re.sub('[^a-zA-Z0-9\\s]', '', opinions[0])))<4:\n",
    "            \n",
    "            sent =  opinions[0]\n",
    "            if all_words_are_nouns_or_punc_req(sent):\n",
    "                print(\"all noun\")\n",
    "                return 3\n",
    "            else:\n",
    "                print(\"not noun\")\n",
    "                return 0\n",
    "        else:\n",
    "            print(\"reason not other len opinion is >3\")\n",
    "            return 0\n",
    "    else:\n",
    "        print(\"reason more than one opinion\")\n",
    "        return 0"
   ]
  },
  {
   "cell_type": "code",
   "execution_count": 200,
   "id": "385f3a80-4e61-437c-b89c-d03e28a6ce87",
   "metadata": {},
   "outputs": [],
   "source": [
    "dicc_test={'app': [['yonosbi kyc'], 0], 'username': [['hee, frustrating'], 2], 'ppen': [['frustrating'], 2], 'login': [['cant'], 2], 'transactions': [['unable to make'], 2]}"
   ]
  },
  {
   "cell_type": "code",
   "execution_count": 201,
   "id": "67abfb66-c701-4d1b-bed8-52f9f610eb5b",
   "metadata": {},
   "outputs": [
    {
     "data": {
      "text/plain": [
       "{'app': [['yonosbi kyc'], 0],\n",
       " 'username': [['hee, frustrating'], 2],\n",
       " 'ppen': [['frustrating'], 2],\n",
       " 'login': [['cant'], 2],\n",
       " 'transactions': [['unable to make'], 2]}"
      ]
     },
     "execution_count": 201,
     "metadata": {},
     "output_type": "execute_result"
    }
   ],
   "source": [
    "dicc_test"
   ]
  },
  {
   "cell_type": "code",
   "execution_count": 202,
   "id": "ee663fc6-83f5-4b02-bd52-8ff7b7cff943",
   "metadata": {},
   "outputs": [],
   "source": [
    "def filter_with_noun(opinions):\n",
    "    if ((len(opinions)==1) & (len(word_tokenize(re.sub('[^a-zA-Z0-9\\s]', '', opinions[0])))<4)):\n",
    "            \n",
    "        sent =  opinions[0]\n",
    "        if all_words_are_nouns_or_punc_req(opinions[0]):\n",
    "            print(len(opinions),len(word_tokenize(re.sub('[^a-zA-Z0-9\\s]', '', opinions[0]))))\n",
    "            print(\"all noun\")\n",
    "            return 3\n",
    "        else:\n",
    "            print(len(opinions),len(word_tokenize(re.sub('[^a-zA-Z0-9\\s]', '', opinions[0]))))\n",
    "            print(\"not noun\")\n",
    "            return 0\n",
    "    else:\n",
    "        print(((len(opinions)==1) & (len(word_tokenize(re.sub('[^a-zA-Z0-9\\s]', '', opinions[0])))<4)))\n",
    "        print(len(opinions),len(word_tokenize(re.sub('[^a-zA-Z0-9\\s]', '', opinions[0]))))\n",
    "        print(\"reason not other len opinion is >3 or reason more than one opinion\")\n",
    "        return 0"
   ]
  },
  {
   "cell_type": "code",
   "execution_count": 203,
   "id": "4851acc3-953d-446b-84b5-215c849ff313",
   "metadata": {},
   "outputs": [
    {
     "name": "stdout",
     "output_type": "stream",
     "text": [
      "[('yonosbi', 'NN'), ('kyc', 'NN')]\n",
      "yonosbi kyc _NOUN OR PUNC_ NN kyc\n",
      "1 2\n",
      "all noun\n",
      "2.9764175415039062\n"
     ]
    },
    {
     "data": {
      "text/plain": [
       "{'app': [['yonosbi kyc'], 3],\n",
       " 'username': [['hee, frustrating'], 2],\n",
       " 'ppen': [['frustrating'], 2],\n",
       " 'login': [['cant'], 2],\n",
       " 'transactions': [['unable to make'], 2]}"
      ]
     },
     "execution_count": 203,
     "metadata": {},
     "output_type": "execute_result"
    }
   ],
   "source": [
    "t1=time.time()\n",
    "filter_dicc={\n",
    "    key: [value[0], value[1]] if value[1] != 0 else [value[0], filter_with_noun(value[0])]\n",
    "    for key, value in dicc_test.items()\n",
    "}\n",
    "t2=time.time()-t1\n",
    "print(t2*1000)\n",
    "filter_dicc"
   ]
  },
  {
   "cell_type": "code",
   "execution_count": 205,
   "id": "58ef0f8d-4abe-4f72-aedf-65067309b647",
   "metadata": {},
   "outputs": [],
   "source": [
    "def other_opinion(dicc):\n",
    "    try:\n",
    "        if dicc:\n",
    "            filter_dicc={\n",
    "                key: [value[0], value[1]] if value[1] != 0 else [value[0], filter_with_noun(value[0])]\n",
    "                for key, value in dicc.items()\n",
    "            }\n",
    "            return filter_dicc\n",
    "        else:\n",
    "            return dicc\n",
    "    except Exception as e:\n",
    "        print(\"error with finding others\", e)\n",
    "        return dicc"
   ]
  },
  {
   "cell_type": "code",
   "execution_count": 206,
   "id": "3035e495-da5c-4e28-97a2-8d16c9363d43",
   "metadata": {},
   "outputs": [
    {
     "name": "stdout",
     "output_type": "stream",
     "text": [
      "[('yonosbi', 'NN'), ('kyc', 'NN')]\n",
      "yonosbi kyc _NOUN OR PUNC_ NN kyc\n",
      "1 2\n",
      "all noun\n"
     ]
    }
   ],
   "source": [
    "ans=other_opinion(dicc_test)"
   ]
  },
  {
   "cell_type": "code",
   "execution_count": 209,
   "id": "d03f1b2d-495a-4c97-b5ef-3119f59e041b",
   "metadata": {},
   "outputs": [
    {
     "name": "stdout",
     "output_type": "stream",
     "text": [
      "False\n",
      "2 1\n",
      "reason not other len opinion is >3 or reason more than one opinion\n"
     ]
    },
    {
     "data": {
      "text/plain": [
       "{'car': [['fast'], 1], 'app': [['sbi', 'large'], 0]}"
      ]
     },
     "execution_count": 209,
     "metadata": {},
     "output_type": "execute_result"
    }
   ],
   "source": [
    "other_opinion({'car':[['fast'],1], 'app':[['sbi','large'],0]})"
   ]
  },
  {
   "cell_type": "code",
   "execution_count": null,
   "id": "d6a31841-1371-464f-bea6-243a7b8e044a",
   "metadata": {},
   "outputs": [],
   "source": []
  },
  {
   "cell_type": "code",
   "execution_count": null,
   "id": "239f56a2-ebf1-46c6-9059-e77ce58467b2",
   "metadata": {},
   "outputs": [],
   "source": []
  }
 ],
 "metadata": {
  "kernelspec": {
   "display_name": "venv_absa",
   "language": "python",
   "name": "venv_absa"
  },
  "language_info": {
   "codemirror_mode": {
    "name": "ipython",
    "version": 3
   },
   "file_extension": ".py",
   "mimetype": "text/x-python",
   "name": "python",
   "nbconvert_exporter": "python",
   "pygments_lexer": "ipython3",
   "version": "3.9.5"
  }
 },
 "nbformat": 4,
 "nbformat_minor": 5
}
