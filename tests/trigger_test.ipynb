{
 "cells": [
  {
   "cell_type": "code",
   "execution_count": 5,
   "metadata": {},
   "outputs": [],
   "source": [
    "import requests\n",
    "import pandas as pd\n",
    "import json\n",
    "import random\n",
    "from tqdm import tqdm\n",
    "\n",
    "def rq(url, data):\n",
    "    result = requests.post(\"http://0.0.0.0:2280/%s\" % url, data=json.dumps(data), headers={'Content-Type':'application/json'}).text\n",
    "    try:\n",
    "        result = json.loads(result)\n",
    "        return result\n",
    "    except json.JSONDecodeError:\n",
    "        print(result)"
   ]
  },
  {
   "cell_type": "code",
   "execution_count": 6,
   "metadata": {},
   "outputs": [
    {
     "data": {
      "text/plain": [
       "{'status': 'successful', 'result': ['App is ready to use']}"
      ]
     },
     "execution_count": 6,
     "metadata": {},
     "output_type": "execute_result"
    }
   ],
   "source": [
    "rq(\"test\", {})"
   ]
  },
  {
   "cell_type": "code",
   "execution_count": 7,
   "metadata": {},
   "outputs": [
    {
     "data": {
      "text/plain": [
       "{'status': 'successful',\n",
       " 'result': {'id': '63dba236b6930712d92e5262',\n",
       "  'active': False,\n",
       "  'display_name': 'murli',\n",
       "  'project_ids': ['63dba67f69c17712ca1391f0', '63dbc539cee65312e112a0aa'],\n",
       "  'user_name': 'radhavenkata.murali@locobuzz.com',\n",
       "  'business_id': '63dba236b6930712d92e5262',\n",
       "  'email': 'radhavenkata.murali@locobuzz.com',\n",
       "  'created_at': 1675338294230,\n",
       "  'updated_at': 1675347257026,\n",
       "  'company': 'CallHippo',\n",
       "  'contact': '7666602592',\n",
       "  'currency': 'INR',\n",
       "  'timezone': 'Asia/Calcutta GMT+05:30',\n",
       "  'partner_id': '63d7d5a76e0dbb4b46362733',\n",
       "  'type': 'owner',\n",
       "  'createdOn': '2023-02-02T11:44:54.228Z',\n",
       "  'companySize': 10,\n",
       "  'password': False},\n",
       " 'time_ms': 515}"
      ]
     },
     "execution_count": 7,
     "metadata": {},
     "output_type": "execute_result"
    }
   ],
   "source": [
    "rq(\"get_business_profile\",{\n",
    "    \"partner_id\": \"63d7d5a76e0dbb4b46362733\",\n",
    "    \"business_id\": \"63dba236b6930712d92e5262\"\n",
    "}\n",
    ")\n",
    "\n"
   ]
  },
  {
   "cell_type": "code",
   "execution_count": null,
   "metadata": {},
   "outputs": [],
   "source": []
  }
 ],
 "metadata": {
  "kernelspec": {
   "display_name": "Python 3 (ipykernel)",
   "language": "python",
   "name": "python3"
  },
  "language_info": {
   "codemirror_mode": {
    "name": "ipython",
    "version": 3
   },
   "file_extension": ".py",
   "mimetype": "text/x-python",
   "name": "python",
   "nbconvert_exporter": "python",
   "pygments_lexer": "ipython3",
   "version": "3.8.10"
  },
  "toc": {
   "base_numbering": 1,
   "nav_menu": {},
   "number_sections": true,
   "sideBar": true,
   "skip_h1_title": true,
   "title_cell": "Table of Contents",
   "title_sidebar": "Contents",
   "toc_cell": false,
   "toc_position": {},
   "toc_section_display": true,
   "toc_window_display": false
  },
  "varInspector": {
   "cols": {
    "lenName": 16,
    "lenType": 16,
    "lenVar": 40
   },
   "kernels_config": {
    "python": {
     "delete_cmd_postfix": "",
     "delete_cmd_prefix": "del ",
     "library": "var_list.py",
     "varRefreshCmd": "print(var_dic_list())"
    },
    "r": {
     "delete_cmd_postfix": ") ",
     "delete_cmd_prefix": "rm(",
     "library": "var_list.r",
     "varRefreshCmd": "cat(var_dic_list()) "
    }
   },
   "types_to_exclude": [
    "module",
    "function",
    "builtin_function_or_method",
    "instance",
    "_Feature"
   ],
   "window_display": false
  }
 },
 "nbformat": 4,
 "nbformat_minor": 2
}
